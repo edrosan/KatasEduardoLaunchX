{
 "cells": [
  {
   "cell_type": "markdown",
   "metadata": {},
   "source": [
    "# Declaraciones if, else, y elif"
   ]
  },
  {
   "cell_type": "markdown",
   "metadata": {},
   "source": [
    "Para este ejercicio, escribirás una lógica condicional que imprima una advertencia si un asteroide se acerca a la Tierra demasiado rápido. La velocidad del asteroide varía dependiendo de lo cerca que esté del sol, y cualquier velocidad superior a 25 kilómetros por segundo (km/s) merece una advertencia.\n",
    "\n",
    "Un asteroide se acerca, y viaja a una velocidad de 49 km/s."
   ]
  },
  {
   "cell_type": "code",
   "execution_count": 4,
   "metadata": {},
   "outputs": [
    {
     "name": "stdout",
     "output_type": "stream",
     "text": [
      "¡Advertencia! Asteroide aproximandose a una velocidad de: 49 km/s\n"
     ]
    }
   ],
   "source": [
    "velocidad = 49\n",
    "\n",
    "if (velocidad > 25 ):\n",
    "    print(\"¡Advertencia! Asteroide aproximandose a una velocidad de: \" + str(velocidad) + \" km/s\")"
   ]
  },
  {
   "cell_type": "markdown",
   "metadata": {},
   "source": [
    "# Problema 2"
   ]
  },
  {
   "cell_type": "markdown",
   "metadata": {},
   "source": [
    "Si un asteroide entra en la atmósfera de la Tierra a una velocidad mayor o igual a 20 km/s, a veces produce un rayo de luz que se puede ver desde la Tierra. Escribe la lógica condicional que usa declaraciones if, else, y elif para alertar a las personas de todo el mundo que deben buscar un asteroide en el cielo. ¡Hay uno que se dirige a la tierra ahora a una velocidad de 19 km/s!"
   ]
  },
  {
   "cell_type": "code",
   "execution_count": 8,
   "metadata": {},
   "outputs": [
    {
     "name": "stdout",
     "output_type": "stream",
     "text": [
      "No hay nada que ver en el cielo\n"
     ]
    }
   ],
   "source": [
    "velocidad = 19\n",
    "\n",
    "if (velocidad > 20):\n",
    "    print(\"Busquen en el cielo, se puede ver un asteroide!!\")\n",
    "elif velocidad == 20:\n",
    "    print(\"Busquen en el cielo, se puede ver un asteroide!!\")\n",
    "else:\n",
    "    print(\"No hay nada que ver en el cielo\")"
   ]
  },
  {
   "cell_type": "markdown",
   "metadata": {},
   "source": [
    "# Uso de operadores and y or"
   ]
  },
  {
   "cell_type": "code",
   "execution_count": 9,
   "metadata": {},
   "outputs": [
    {
     "name": "stdout",
     "output_type": "stream",
     "text": [
      "Cuidado, hay peligro de colicion con un asteroide\n"
     ]
    }
   ],
   "source": [
    "velocidad =  40\n",
    "tamaño = 30\n",
    "\n",
    "if (velocidad > 20 and tamaño > 25):\n",
    "    print(\"Cuidado, hay peligro de colicion con un asteroide\")\n",
    "elif (velocidad == 20 and tamaño < 25):\n",
    "    print(\"Vean al cielo, algo sorprendente va a pasar\")\n",
    "else:\n",
    "    print(\"Solo hay un cielo hermoso\")"
   ]
  }
 ],
 "metadata": {
  "interpreter": {
   "hash": "ce1095ceb7b403dc70f5c1d046c7f34ebf2cc5feaa9ac83eb26570c1945ce8c8"
  },
  "kernelspec": {
   "display_name": "Python 3.9.7 ('base')",
   "language": "python",
   "name": "python3"
  },
  "language_info": {
   "codemirror_mode": {
    "name": "ipython",
    "version": 3
   },
   "file_extension": ".py",
   "mimetype": "text/x-python",
   "name": "python",
   "nbconvert_exporter": "python",
   "pygments_lexer": "ipython3",
   "version": "3.9.7"
  },
  "orig_nbformat": 4
 },
 "nbformat": 4,
 "nbformat_minor": 2
}
